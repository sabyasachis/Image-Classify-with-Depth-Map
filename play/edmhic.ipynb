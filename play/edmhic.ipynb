{
 "cells": [
  {
   "cell_type": "markdown",
   "metadata": {},
   "source": [
    "# Estimated Depth Map Helps Image Classification\n",
    "### in keras"
   ]
  },
  {
   "cell_type": "markdown",
   "metadata": {},
   "source": [
    "### Brief idea\n",
    "To explain this project in one line: Take the depth maps obtained from Depth Map Estimation models and use it as a 4th channel along with R,G,B channels to improve the image classification accuracy of any state of the art model like ResNet.\n"
   ]
  },
  {
   "cell_type": "markdown",
   "metadata": {},
   "source": [
    "### I. Build a RGBD dataset from RGB dataset\n",
    "Take a pre-trained model for depth map estimation and generate depth maps for all images. Concatenate this depth map to R,G,B channels of image as a 4th channel called depth (D) channel. "
   ]
  },
  {
   "cell_type": "code",
   "execution_count": null,
   "metadata": {},
   "outputs": [],
   "source": []
  },
  {
   "cell_type": "markdown",
   "metadata": {},
   "source": [
    "### II. Compare classification perf. using R,G,B,D\n",
    "Train a two layer deep NN and train it individually on each channel and compare the performances. We will see most performance and faster convergence for D channel than w.r.t. any other channel"
   ]
  },
  {
   "cell_type": "code",
   "execution_count": null,
   "metadata": {},
   "outputs": [],
   "source": []
  },
  {
   "cell_type": "markdown",
   "metadata": {},
   "source": [
    "### III. Compare classification perf. using RGB images vs RGBD images\n",
    "Train it on a ResNet-20 and ResNet-56 to see performance improvements of ~0.55% and ~0.53% using RGBD dataset instead of RGB dataset"
   ]
  },
  {
   "cell_type": "code",
   "execution_count": null,
   "metadata": {},
   "outputs": [],
   "source": []
  },
  {
   "cell_type": "markdown",
   "metadata": {},
   "source": [
    "### Conclusion\n",
    "The small improvements that we can get using depth map as a channel means that our state of the art models should have been able to figure out depth map in their intermediate feature maps, but they are probably not doing a good job. Therefore, directly providing depth map as a channel results in improvements.\n",
    "\n",
    "This can also be used as a metric to judge RGBD datasets and/or state of art image classification models."
   ]
  }
 ],
 "metadata": {
  "kernelspec": {
   "display_name": "Python 3",
   "language": "python",
   "name": "python3"
  },
  "language_info": {
   "codemirror_mode": {
    "name": "ipython",
    "version": 3
   },
   "file_extension": ".py",
   "mimetype": "text/x-python",
   "name": "python",
   "nbconvert_exporter": "python",
   "pygments_lexer": "ipython3",
   "version": "3.6.3"
  }
 },
 "nbformat": 4,
 "nbformat_minor": 2
}
